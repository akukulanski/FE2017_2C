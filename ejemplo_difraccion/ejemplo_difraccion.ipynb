{
 "cells": [
  {
   "cell_type": "code",
   "execution_count": 1,
   "metadata": {},
   "outputs": [],
   "source": [
    "from math import pi, sin, cos, acos, asin"
   ]
  },
  {
   "cell_type": "code",
   "execution_count": 2,
   "metadata": {},
   "outputs": [],
   "source": [
    "# velocidad de la luz\n",
    "c = 3e8 # [m/s]"
   ]
  },
  {
   "cell_type": "code",
   "execution_count": 3,
   "metadata": {},
   "outputs": [],
   "source": [
    "# frecuencia de la onda\n",
    "f = 107.5e6 # [Hz]"
   ]
  },
  {
   "cell_type": "code",
   "execution_count": 4,
   "metadata": {},
   "outputs": [],
   "source": [
    "# distancia entre edificios (ancho rendija)\n",
    "b = 17 # [m]"
   ]
  },
  {
   "cell_type": "code",
   "execution_count": 5,
   "metadata": {},
   "outputs": [
    {
     "name": "stdout",
     "output_type": "stream",
     "text": [
      "long onda = 2.79e+00 m\n"
     ]
    }
   ],
   "source": [
    "lo = c / f # [m]\n",
    "print('long onda = {:.2e} m'.format(lo))"
   ]
  },
  {
   "cell_type": "code",
   "execution_count": 6,
   "metadata": {},
   "outputs": [
    {
     "name": "stdout",
     "output_type": "stream",
     "text": [
      "ang = 0.16 rad = 9.45°\n"
     ]
    }
   ],
   "source": [
    "ang_rad = asin(1*lo/b) # [rad]\n",
    "print('ang = {:.2f} rad = {:.2f}°'.format(ang_rad, ang_rad*180/pi))"
   ]
  },
  {
   "cell_type": "code",
   "execution_count": 7,
   "metadata": {},
   "outputs": [],
   "source": [
    "# Intenisdad en difracción por una rendija:\n",
    "def intensidad_difraccion(i0, long_onda, b, ang_rad):\n",
    "    x = pi * b * sin(ang_rad) / long_onda # [rad]\n",
    "    return i0 * (sin(x) / x)**2"
   ]
  },
  {
   "cell_type": "code",
   "execution_count": 8,
   "metadata": {},
   "outputs": [],
   "source": [
    "i0 = 8.1 # [W/m2]\n",
    "f = 101.9e6 # [MHz]\n",
    "b = 17 # [m]\n",
    "ang_deg = 3 # [°]"
   ]
  },
  {
   "cell_type": "code",
   "execution_count": 9,
   "metadata": {},
   "outputs": [],
   "source": [
    "ang_rad = ang_deg * pi / 180 # [rad]\n",
    "long_onda = c / f # [m]"
   ]
  },
  {
   "cell_type": "code",
   "execution_count": 10,
   "metadata": {},
   "outputs": [
    {
     "name": "stdout",
     "output_type": "stream",
     "text": [
      "Intensidad a 3.00° = 5.94 W/m2\n"
     ]
    }
   ],
   "source": [
    "i = intensidad_difraccion(i0, long_onda, b, ang_rad)\n",
    "print('Intensidad a {:.2f}° = {:.2f} W/m2'.format(ang_deg, i))"
   ]
  }
 ],
 "metadata": {
  "kernelspec": {
   "display_name": "Python 3",
   "language": "python",
   "name": "python3"
  },
  "language_info": {
   "codemirror_mode": {
    "name": "ipython",
    "version": 3
   },
   "file_extension": ".py",
   "mimetype": "text/x-python",
   "name": "python",
   "nbconvert_exporter": "python",
   "pygments_lexer": "ipython3",
   "version": "3.6.5"
  }
 },
 "nbformat": 4,
 "nbformat_minor": 2
}
