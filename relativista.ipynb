{
 "cells": [
  {
   "cell_type": "code",
   "execution_count": 17,
   "metadata": {},
   "outputs": [
    {
     "name": "stdout",
     "output_type": "stream",
     "text": [
      "Comparación Relativista vs Clásico\n"
     ]
    }
   ],
   "source": [
    "print(\"Comparación Relativista vs Clásico\")"
   ]
  },
  {
   "cell_type": "code",
   "execution_count": 2,
   "metadata": {},
   "outputs": [
    {
     "name": "stdout",
     "output_type": "stream",
     "text": [
      "h =  6.6261e-34  J*s\n"
     ]
    }
   ],
   "source": [
    "h=6.6261e-34 # [J*s]\n",
    "print(\"h = \", h, \" J*s\")"
   ]
  },
  {
   "cell_type": "code",
   "execution_count": 3,
   "metadata": {},
   "outputs": [
    {
     "name": "stdout",
     "output_type": "stream",
     "text": [
      "C= 300000000.0  m/s\n"
     ]
    }
   ],
   "source": [
    "c=3e8 # [m/s]\n",
    "print(\"C=\", c, \" m/s\")"
   ]
  },
  {
   "cell_type": "code",
   "execution_count": 4,
   "metadata": {},
   "outputs": [
    {
     "name": "stdout",
     "output_type": "stream",
     "text": [
      "mn =  1.67493e-27  kg\n"
     ]
    }
   ],
   "source": [
    "mn=1.67493e-27 # [kg]\n",
    "print(\"mn = \", mn, \" kg\")"
   ]
  },
  {
   "cell_type": "code",
   "execution_count": 5,
   "metadata": {},
   "outputs": [
    {
     "name": "stdout",
     "output_type": "stream",
     "text": [
      "K =  300000000.0  eV\n"
     ]
    }
   ],
   "source": [
    "K_ev=300e6 # [eV]\n",
    "print(\"K = \", K_ev, \" eV\")"
   ]
  },
  {
   "cell_type": "code",
   "execution_count": 6,
   "metadata": {},
   "outputs": [
    {
     "name": "stdout",
     "output_type": "stream",
     "text": [
      "e (carga electrón) =  1.602e-19  C\n"
     ]
    }
   ],
   "source": [
    "e=1.602e-19 # [C]\n",
    "print(\"e (carga electrón) = \", e, \" C\")"
   ]
  },
  {
   "cell_type": "code",
   "execution_count": 7,
   "metadata": {},
   "outputs": [
    {
     "name": "stdout",
     "output_type": "stream",
     "text": [
      "K =  4.806e-11  J\n"
     ]
    }
   ],
   "source": [
    "K_j=K_ev*e # [J]\n",
    "print(\"K = \", K_j, \" J\")"
   ]
  },
  {
   "cell_type": "code",
   "execution_count": 8,
   "metadata": {},
   "outputs": [
    {
     "name": "stdout",
     "output_type": "stream",
     "text": [
      "E0 =  1.5074369999999998e-10  J\n"
     ]
    }
   ],
   "source": [
    "E0=mn*c*c # [J]\n",
    "print(\"E0 = \", E0, \" J\")"
   ]
  },
  {
   "cell_type": "code",
   "execution_count": 9,
   "metadata": {},
   "outputs": [
    {
     "name": "stdout",
     "output_type": "stream",
     "text": [
      "(relativista) p =  4.320397106748406e-19  kg*m/s\n"
     ]
    }
   ],
   "source": [
    "p_rel=(K_j**2+2*K_j*E0)**0.5/c # [kg*m/s]\n",
    "print(\"(relativista) p = \", p_rel, \" kg*m/s\")"
   ]
  },
  {
   "cell_type": "code",
   "execution_count": 10,
   "metadata": {},
   "outputs": [
    {
     "name": "stdout",
     "output_type": "stream",
     "text": [
      "(relativista) Long. onda =  1.5336784643360943e-15  m\n"
     ]
    }
   ],
   "source": [
    "L_rel=h/p_rel # [m]\n",
    "print(\"(relativista) Long. onda = \", L_rel, \" m\")"
   ]
  },
  {
   "cell_type": "code",
   "execution_count": 11,
   "metadata": {},
   "outputs": [
    {
     "name": "stdout",
     "output_type": "stream",
     "text": [
      "(clásico) p =  4.012409146634974e-19  kg*m/s\n"
     ]
    }
   ],
   "source": [
    "p_clas=(2*mn*K_j)**0.5 # [kg*m/s]\n",
    "print(\"(clásico) p = \", p_clas, \" kg*m/s\")"
   ]
  },
  {
   "cell_type": "code",
   "execution_count": 12,
   "metadata": {},
   "outputs": [
    {
     "name": "stdout",
     "output_type": "stream",
     "text": [
      "Long. onda =  1.6514018779857009e-15  m\n"
     ]
    }
   ],
   "source": [
    "L_clas=h/p_clas # [m]\n",
    "print(\"Long. onda = \", L_clas, \" m\")"
   ]
  },
  {
   "cell_type": "code",
   "execution_count": 14,
   "metadata": {},
   "outputs": [
    {
     "name": "stdout",
     "output_type": "stream",
     "text": [
      "delta =  1.1772341364960665e-16  m\n"
     ]
    }
   ],
   "source": [
    "delta=abs(L_rel-L_clas)\n",
    "print(\"delta = \", delta, \" m\")"
   ]
  },
  {
   "cell_type": "code",
   "execution_count": 15,
   "metadata": {},
   "outputs": [
    {
     "name": "stdout",
     "output_type": "stream",
     "text": [
      "Error (1) =  7.675886203472727  %\n"
     ]
    }
   ],
   "source": [
    "error_1=100*delta/L_rel\n",
    "print(\"Error (1) = \", error_1, \" %\")"
   ]
  },
  {
   "cell_type": "code",
   "execution_count": 16,
   "metadata": {},
   "outputs": [
    {
     "name": "stdout",
     "output_type": "stream",
     "text": [
      "Error (2) =  7.128695638471715  %\n"
     ]
    }
   ],
   "source": [
    "error_2=100*delta/L_clas\n",
    "print(\"Error (2) = \", error_2, \" %\")"
   ]
  },
  {
   "cell_type": "code",
   "execution_count": null,
   "metadata": {},
   "outputs": [],
   "source": []
  }
 ],
 "metadata": {
  "kernelspec": {
   "display_name": "Python 3",
   "language": "python",
   "name": "python3"
  },
  "language_info": {
   "codemirror_mode": {
    "name": "ipython",
    "version": 3
   },
   "file_extension": ".py",
   "mimetype": "text/x-python",
   "name": "python",
   "nbconvert_exporter": "python",
   "pygments_lexer": "ipython3",
   "version": "3.6.2"
  }
 },
 "nbformat": 4,
 "nbformat_minor": 2
}
